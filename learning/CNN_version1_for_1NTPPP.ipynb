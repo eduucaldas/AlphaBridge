{
 "cells": [
  {
   "cell_type": "markdown",
   "metadata": {},
   "source": [
    "# Convolutional Neural Network for 1NTPPP"
   ]
  },
  {
   "cell_type": "code",
   "execution_count": 1,
   "metadata": {},
   "outputs": [
    {
     "name": "stderr",
     "output_type": "stream",
     "text": [
      "Using TensorFlow backend.\n"
     ]
    }
   ],
   "source": [
    "import numpy as np\n",
    "\n",
    "from archive_parser import archive_to_dataframe\n",
    "\n",
    "from keras.models import Sequential\n",
    "from keras.layers import Conv2D, Dense, Flatten, InputLayer, Input, Reshape\n",
    "from keras.utils import np_utils\n",
    "\n",
    "from sklearn.model_selection import train_test_split\n",
    "\n",
    "filename = \"archive.dat\"\n",
    "df = archive_to_dataframe(filename)\n",
    "\n",
    "X = np.stack(df[\"player\"].values)\n",
    "y = (df[\"entame\"]//13).values\n",
    "y = np.stack(np_utils.to_categorical(y))\n",
    "\n",
    "\n",
    "X_train, X_test, y_train, y_test = train_test_split(X, y, test_size=0.1, random_state=42)"
   ]
  },
  {
   "cell_type": "markdown",
   "metadata": {},
   "source": [
    "Basically the same as for Ziyed's FFNN, with a few imports added"
   ]
  },
  {
   "cell_type": "code",
   "execution_count": 2,
   "metadata": {},
   "outputs": [],
   "source": [
    "size_flat = 52;\n",
    "shape_full = (4, 13, 1)\n",
    "num_of_chanels = 1\n",
    "num_classes = 4"
   ]
  },
  {
   "cell_type": "markdown",
   "metadata": {},
   "source": [
    "Some variables that will come useful later.\n",
    "Note that shape_full will be used to shape our unidimensional vector of 52 bits in a 4 * 13 vector."
   ]
  },
  {
   "cell_type": "code",
   "execution_count": 3,
   "metadata": {},
   "outputs": [],
   "source": [
    "model = Sequential()\n",
    "model.add(InputLayer(input_shape=(size_flat,)))\n",
    "\n",
    "model.add(Reshape(shape_full))"
   ]
  },
  {
   "cell_type": "markdown",
   "metadata": {},
   "source": [
    "We want to reshape the 52 unidimensional vector into a 4 * 13 one."
   ]
  },
  {
   "cell_type": "code",
   "execution_count": 4,
   "metadata": {},
   "outputs": [],
   "source": [
    "# First convolutional layer with ReLU-activation\n",
    "model.add(Conv2D(kernel_size=4, strides=1, filters=26, padding='same',\n",
    "                 activation='relu', name='layer_conv1'))\n",
    "\n",
    "# Second convolutional layer with ReLU-activation\n",
    "model.add(Conv2D(kernel_size=4, strides=1, filters=52, padding='same',\n",
    "                 activation='relu', name='layer_conv2'))\n",
    "\n",
    "# Third convolutional layer with ReLU-activation\n",
    "model.add(Conv2D(kernel_size=4, strides=1, filters=52, padding='same',\n",
    "                 activation='relu', name='layer_conv3'))\n",
    "\n",
    "# Trying with a fourth layer\n",
    "#model.add(Conv2D(kernel_size=2, strides=1, filters=52, padding='same',\n",
    "#                 activation='relu', name='layer_conv4'))"
   ]
  },
  {
   "cell_type": "markdown",
   "metadata": {},
   "source": [
    "Adding the convolutional layers. I tried with a fourth one but it won't change the overall performance.\n",
    "Here are some of the parameters that can be changed in order to optimize the CNN : try changing the kernel_size and the number of filters in each layer. "
   ]
  },
  {
   "cell_type": "markdown",
   "metadata": {},
   "source": [
    "Best results so far have been obtained with : layer_conv1 (4, 26), layer_conv2 (4, 52), layer_conv3 (4, 52)"
   ]
  },
  {
   "cell_type": "code",
   "execution_count": 5,
   "metadata": {},
   "outputs": [],
   "source": [
    "# Flatten the 4-rank output of the convolutional layers\n",
    "# to 2-rank that can be input to a fully-connected / dense layer\n",
    "model.add(Flatten())\n",
    "\n",
    "# First fully-connected / dense layer with ReLU-activation\n",
    "model.add(Dense(26, activation='relu'))\n",
    "\n",
    "# Last fully-connected / dense layer with softmax-activation\n",
    "model.add(Dense(num_classes, activation='softmax'))"
   ]
  },
  {
   "cell_type": "markdown",
   "metadata": {},
   "source": [
    "Connecting to the final layers : one fully connected layer with 26 features (try and change that number to see its influence), and a final classification layer corresponding to the four colours."
   ]
  },
  {
   "cell_type": "code",
   "execution_count": null,
   "metadata": {},
   "outputs": [],
   "source": []
  },
  {
   "cell_type": "code",
   "execution_count": 6,
   "metadata": {
    "scrolled": true
   },
   "outputs": [
    {
     "name": "stdout",
     "output_type": "stream",
     "text": [
      "Epoch 1/20\n",
      "1978/1978 [==============================] - 1s - loss: 1.3649 - acc: 0.3241     \n",
      "Epoch 2/20\n",
      "1978/1978 [==============================] - 0s - loss: 1.2563 - acc: 0.4065     \n",
      "Epoch 3/20\n",
      "1978/1978 [==============================] - 0s - loss: 0.9958 - acc: 0.5875     \n",
      "Epoch 4/20\n",
      "1978/1978 [==============================] - 1s - loss: 0.8025 - acc: 0.6835     \n",
      "Epoch 5/20\n",
      "1978/1978 [==============================] - 0s - loss: 0.7350 - acc: 0.7113     \n",
      "Epoch 6/20\n",
      "1978/1978 [==============================] - 0s - loss: 0.6683 - acc: 0.7503     \n",
      "Epoch 7/20\n",
      "1978/1978 [==============================] - 0s - loss: 0.6490 - acc: 0.7528     \n",
      "Epoch 8/20\n",
      "1978/1978 [==============================] - 0s - loss: 0.6345 - acc: 0.7573     \n",
      "Epoch 9/20\n",
      "1978/1978 [==============================] - 1s - loss: 0.6058 - acc: 0.7801     \n",
      "Epoch 10/20\n",
      "1978/1978 [==============================] - 1s - loss: 0.5976 - acc: 0.7705     \n",
      "Epoch 11/20\n",
      "1978/1978 [==============================] - 1s - loss: 0.5880 - acc: 0.7877     \n",
      "Epoch 12/20\n",
      "1978/1978 [==============================] - 1s - loss: 0.5716 - acc: 0.7826     \n",
      "Epoch 13/20\n",
      "1978/1978 [==============================] - 1s - loss: 0.5593 - acc: 0.7968     \n",
      "Epoch 14/20\n",
      "1978/1978 [==============================] - 1s - loss: 0.5411 - acc: 0.8018     \n",
      "Epoch 15/20\n",
      "1978/1978 [==============================] - 1s - loss: 0.5291 - acc: 0.8109     \n",
      "Epoch 16/20\n",
      "1978/1978 [==============================] - 1s - loss: 0.5188 - acc: 0.8094     \n",
      "Epoch 17/20\n",
      "1978/1978 [==============================] - 1s - loss: 0.5195 - acc: 0.8109     \n",
      "Epoch 18/20\n",
      "1978/1978 [==============================] - 0s - loss: 0.5063 - acc: 0.8104     \n",
      "Epoch 19/20\n",
      "1978/1978 [==============================] - 0s - loss: 0.5018 - acc: 0.8124     \n",
      "Epoch 20/20\n",
      "1978/1978 [==============================] - 0s - loss: 0.4830 - acc: 0.8215     \n",
      "Accuracy:  79.545456171\n"
     ]
    }
   ],
   "source": [
    "epochs = 20\n",
    "batch_size = 256\n",
    "\n",
    "model.compile(optimizer='adam',\n",
    "              loss='categorical_crossentropy',\n",
    "              metrics=['accuracy'])\n",
    "\n",
    "model.fit(X_train,\n",
    "          y_train,\n",
    "          epochs=epochs, batch_size=batch_size)\n",
    "\n",
    "score = model.evaluate(X_test, y_test, batch_size=batch_size, verbose=0)\n",
    "print(\"Accuracy: \", score[1]*100)"
   ]
  },
  {
   "cell_type": "markdown",
   "metadata": {},
   "source": [
    "You can change the epochs and batch_size parameters too. The best I have found so far are the current parameters of 20 epochs on a 256 batch size. We obtain about 80% accuracy, which seems to be hard to beat, given that we test on human games and human don't always play the \"best\" lead."
   ]
  }
 ],
 "metadata": {
  "kernelspec": {
   "display_name": "Python 3",
   "language": "python",
   "name": "python3"
  },
  "language_info": {
   "codemirror_mode": {
    "name": "ipython",
    "version": 3
   },
   "file_extension": ".py",
   "mimetype": "text/x-python",
   "name": "python",
   "nbconvert_exporter": "python",
   "pygments_lexer": "ipython3",
   "version": "3.6.3"
  }
 },
 "nbformat": 4,
 "nbformat_minor": 2
}
